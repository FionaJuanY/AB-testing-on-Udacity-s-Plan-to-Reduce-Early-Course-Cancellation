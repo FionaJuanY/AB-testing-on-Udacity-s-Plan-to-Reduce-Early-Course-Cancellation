{
 "cells": [
  {
   "cell_type": "markdown",
   "id": "aea2bced",
   "metadata": {},
   "source": [
    "# A/B Testing on Udacity’s Plan to Reduce Early Course Cancellation"
   ]
  },
  {
   "cell_type": "markdown",
   "id": "1bf291d3",
   "metadata": {},
   "source": [
    "Table of contents\n",
    "\n",
    "1. Description\n",
    "\n",
    "\n",
    "2. Experiment Design\n",
    " \n",
    " 2.1 Unit of Diversion\n",
    " \n",
    " 2.2 Invariant Metrics\n",
    " \n",
    " 2.3 Evaluation Metrics\n",
    " \n",
    " 2.4 Measuring Variability\n",
    " \n",
    " 2.5 Experiment sizing\n",
    " \n",
    " \n",
    "3. Experient analysis\n",
    "  \n",
    "  3.1 Sanity Checks\n",
    "  \n",
    "  3.2 Effect Check\n",
    "  \n",
    "  3.3 Sign test\n",
    "\n",
    "\n",
    "4. Conclusion and follow-ups\n",
    "\n",
    "\n",
    "\n",
    "\n"
   ]
  },
  {
   "cell_type": "markdown",
   "id": "1643031c",
   "metadata": {},
   "source": [
    "## 1. Description"
   ]
  },
  {
   "cell_type": "markdown",
   "id": "57588aae",
   "metadata": {},
   "source": [
    "Udacity, an online learning platform, is considering add a feature to its website.\n",
    "\n",
    "Currently, the user funnel goes like this: \n",
    "\n",
    "course overview --> start free trial --> enroll with payment info --> pay\n",
    "             \n",
    "              --> access course materials\n",
    "\n",
    "After the course overview, an user can either choose to start free trial or access course materials. \n",
    "\n",
    "If choosing free trial, the user will be asked to enter their payment information and will have a 14-day trial period, free of charge. During this period, the user will have access to all resources and services as a paid user, including coaching support and feedback on projects. After the trial period, the user will have to pay for the same resources and services. \n",
    "\n",
    "If choosing to access course materials, the user can take the courses for free, but will not have the sources and services as a paid user has. \n",
    "\n",
    "Now Udacity intends to add a feature by asking the users how much time per week they can work on the course right after they click the \"start free trial\" button. If the answer is 5 or more hours, they can move forward to the next step of enrollment; otherwise, a message would appear, advising the users to consider \"access course materials\", though they can still choose to enroll.\n",
    "\n",
    "The purpose of the change is to discourage the users that do not have enough time from starting free trial and thus save the resoruces and reduce costs."
   ]
  },
  {
   "cell_type": "markdown",
   "id": "280aaf18",
   "metadata": {},
   "source": [
    "## 2. Experiment Design"
   ]
  },
  {
   "cell_type": "markdown",
   "id": "c42972c1",
   "metadata": {},
   "source": [
    "### 2.1 Unit of Diversion"
   ]
  },
  {
   "cell_type": "markdown",
   "id": "609a9dc8",
   "metadata": {},
   "source": [
    "The unit of diversion is a cookie."
   ]
  },
  {
   "cell_type": "markdown",
   "id": "83d3faf4",
   "metadata": {},
   "source": [
    "### 2.2 Invariant Metrics"
   ]
  },
  {
   "cell_type": "markdown",
   "id": "b27efd39",
   "metadata": {},
   "source": [
    "Invariant metrics are expected to be the same between the experiment and control groups. They are designed to make sure that data points are distributed evenly between the experiment and control groups.\n",
    "\n",
    "In this case, they are\n",
    "\n",
    "1. Number of cookies: number of unique cookies to view the course overview page. \n",
    "\n",
    "2. Number of clicks: number of unique cookies to click the \"Start free trial\" button (which happens before the free trial screen is trigger).\n",
    "\n",
    "3. Click-through-probability: number of unique cookies to click the \"Start free trial\" button divided by number of unique cookies to view the course overview page. \n",
    "\n",
    "Those three metrics happen before the time commitment question is asked. To make sure traffic is diverted unbiasedly to the experiment and control groups, values cannot be siginificantly different between the two groups. "
   ]
  },
  {
   "cell_type": "markdown",
   "id": "0ec8352a",
   "metadata": {},
   "source": [
    "### 2.3 Evaluation Metrics"
   ]
  },
  {
   "cell_type": "markdown",
   "id": "b6298d56",
   "metadata": {},
   "source": [
    "Evaluation metrics are chosen to find out if the experiment will bring in the expected changes.\n",
    "\n",
    "The expectation is to reduce the number of frustrated students who leave the free trial because they don't have enough time—without significantly reducing the number of students to continue past the free trial and eventually make the payment. \n",
    "\n",
    "The evaluation metrics are\n",
    "\n",
    "1. Gross conversion - enrollments/clicks. \n",
    "\n",
    "This matric is expected to decrease significantly, as the experiment is designed to discourage the students who are not likely to be committed to and complete the course from the free trial.\n",
    "\n",
    "2. Retention \t- payments/enrollments \n",
    "\n",
    "This metric is expected to rise significantly since the number of enrollments is expected to decrease.\n",
    "\n",
    "3. Net conversion -\tpayments/clicks\n",
    "\n",
    "As we hope the experiment will achieve the goal while not significantly reducing the number of users to continue past the free trial, the value of this metrics is expected to stay the same or even better go higher.\n"
   ]
  },
  {
   "cell_type": "markdown",
   "id": "ee376cd7",
   "metadata": {},
   "source": [
    "### 2.4 Measuring Variability"
   ]
  },
  {
   "cell_type": "code",
   "execution_count": 7,
   "id": "f0cecabd",
   "metadata": {},
   "outputs": [],
   "source": [
    "import numpy as np\n",
    "import pandas as pd\n",
    "import warnings\n",
    "warnings.filterwarnings('ignore')"
   ]
  },
  {
   "cell_type": "code",
   "execution_count": 8,
   "id": "09c263a3",
   "metadata": {},
   "outputs": [],
   "source": [
    "#Baseline values provided by Udacity\n",
    "baseline = pd.read_csv('Final Project Baseline Values - Sheet1.csv', header=None, names=['matrics', 'values'])\n",
    "baseline.set_index(pd.Index(['cookies','clicks','enrollments','CTR','gross conversion','retention','net conversion']), inplace=True)"
   ]
  },
  {
   "cell_type": "code",
   "execution_count": 9,
   "id": "6d853193",
   "metadata": {},
   "outputs": [
    {
     "data": {
      "text/html": [
       "<div>\n",
       "<style scoped>\n",
       "    .dataframe tbody tr th:only-of-type {\n",
       "        vertical-align: middle;\n",
       "    }\n",
       "\n",
       "    .dataframe tbody tr th {\n",
       "        vertical-align: top;\n",
       "    }\n",
       "\n",
       "    .dataframe thead th {\n",
       "        text-align: right;\n",
       "    }\n",
       "</style>\n",
       "<table border=\"1\" class=\"dataframe\">\n",
       "  <thead>\n",
       "    <tr style=\"text-align: right;\">\n",
       "      <th></th>\n",
       "      <th>matrics</th>\n",
       "      <th>values</th>\n",
       "    </tr>\n",
       "  </thead>\n",
       "  <tbody>\n",
       "    <tr>\n",
       "      <th>cookies</th>\n",
       "      <td>Unique cookies to view course overview page pe...</td>\n",
       "      <td>40000.000000</td>\n",
       "    </tr>\n",
       "    <tr>\n",
       "      <th>clicks</th>\n",
       "      <td>Unique cookies to click \"Start free trial\" per...</td>\n",
       "      <td>3200.000000</td>\n",
       "    </tr>\n",
       "    <tr>\n",
       "      <th>enrollments</th>\n",
       "      <td>Enrollments per day:</td>\n",
       "      <td>660.000000</td>\n",
       "    </tr>\n",
       "    <tr>\n",
       "      <th>CTR</th>\n",
       "      <td>Click-through-probability on \"Start free trial\":</td>\n",
       "      <td>0.080000</td>\n",
       "    </tr>\n",
       "    <tr>\n",
       "      <th>gross conversion</th>\n",
       "      <td>Probability of enrolling, given click:</td>\n",
       "      <td>0.206250</td>\n",
       "    </tr>\n",
       "    <tr>\n",
       "      <th>retention</th>\n",
       "      <td>Probability of payment, given enroll:</td>\n",
       "      <td>0.530000</td>\n",
       "    </tr>\n",
       "    <tr>\n",
       "      <th>net conversion</th>\n",
       "      <td>Probability of payment, given click</td>\n",
       "      <td>0.109313</td>\n",
       "    </tr>\n",
       "  </tbody>\n",
       "</table>\n",
       "</div>"
      ],
      "text/plain": [
       "                                                            matrics  \\\n",
       "cookies           Unique cookies to view course overview page pe...   \n",
       "clicks            Unique cookies to click \"Start free trial\" per...   \n",
       "enrollments                                    Enrollments per day:   \n",
       "CTR                Click-through-probability on \"Start free trial\":   \n",
       "gross conversion             Probability of enrolling, given click:   \n",
       "retention                     Probability of payment, given enroll:   \n",
       "net conversion                  Probability of payment, given click   \n",
       "\n",
       "                        values  \n",
       "cookies           40000.000000  \n",
       "clicks             3200.000000  \n",
       "enrollments         660.000000  \n",
       "CTR                   0.080000  \n",
       "gross conversion      0.206250  \n",
       "retention             0.530000  \n",
       "net conversion        0.109313  "
      ]
     },
     "execution_count": 9,
     "metadata": {},
     "output_type": "execute_result"
    }
   ],
   "source": [
    "baseline"
   ]
  },
  {
   "cell_type": "markdown",
   "id": "537973f8",
   "metadata": {},
   "source": [
    "Assuming a sample size of 5000 cookies visiting the course overview pages per day and based on the baseline values provided, we are going to calculate standard deviations of the evaluation matrices."
   ]
  },
  {
   "cell_type": "markdown",
   "id": "ecb1f527",
   "metadata": {},
   "source": [
    "For the porpose of standard deviation, we will scale the counts accordingly, while a sample size of 5000 cookies viewing overview page means a scaler of 5000/40000 = 0.125."
   ]
  },
  {
   "cell_type": "code",
   "execution_count": 10,
   "id": "cb058b56",
   "metadata": {},
   "outputs": [],
   "source": [
    "baseline.iloc[0, 1] = 5000\n",
    "baseline.iloc[1, 1] = 3200*0.125\n",
    "baseline.iloc[2, 1] = 660 * 0.125"
   ]
  },
  {
   "cell_type": "code",
   "execution_count": 11,
   "id": "acc192a3",
   "metadata": {},
   "outputs": [
    {
     "data": {
      "text/html": [
       "<div>\n",
       "<style scoped>\n",
       "    .dataframe tbody tr th:only-of-type {\n",
       "        vertical-align: middle;\n",
       "    }\n",
       "\n",
       "    .dataframe tbody tr th {\n",
       "        vertical-align: top;\n",
       "    }\n",
       "\n",
       "    .dataframe thead th {\n",
       "        text-align: right;\n",
       "    }\n",
       "</style>\n",
       "<table border=\"1\" class=\"dataframe\">\n",
       "  <thead>\n",
       "    <tr style=\"text-align: right;\">\n",
       "      <th></th>\n",
       "      <th>matrics</th>\n",
       "      <th>values</th>\n",
       "    </tr>\n",
       "  </thead>\n",
       "  <tbody>\n",
       "    <tr>\n",
       "      <th>cookies</th>\n",
       "      <td>Unique cookies to view course overview page pe...</td>\n",
       "      <td>5000.000000</td>\n",
       "    </tr>\n",
       "    <tr>\n",
       "      <th>clicks</th>\n",
       "      <td>Unique cookies to click \"Start free trial\" per...</td>\n",
       "      <td>400.000000</td>\n",
       "    </tr>\n",
       "    <tr>\n",
       "      <th>enrollments</th>\n",
       "      <td>Enrollments per day:</td>\n",
       "      <td>82.500000</td>\n",
       "    </tr>\n",
       "    <tr>\n",
       "      <th>CTR</th>\n",
       "      <td>Click-through-probability on \"Start free trial\":</td>\n",
       "      <td>0.080000</td>\n",
       "    </tr>\n",
       "    <tr>\n",
       "      <th>gross conversion</th>\n",
       "      <td>Probability of enrolling, given click:</td>\n",
       "      <td>0.206250</td>\n",
       "    </tr>\n",
       "    <tr>\n",
       "      <th>retention</th>\n",
       "      <td>Probability of payment, given enroll:</td>\n",
       "      <td>0.530000</td>\n",
       "    </tr>\n",
       "    <tr>\n",
       "      <th>net conversion</th>\n",
       "      <td>Probability of payment, given click</td>\n",
       "      <td>0.109313</td>\n",
       "    </tr>\n",
       "  </tbody>\n",
       "</table>\n",
       "</div>"
      ],
      "text/plain": [
       "                                                            matrics  \\\n",
       "cookies           Unique cookies to view course overview page pe...   \n",
       "clicks            Unique cookies to click \"Start free trial\" per...   \n",
       "enrollments                                    Enrollments per day:   \n",
       "CTR                Click-through-probability on \"Start free trial\":   \n",
       "gross conversion             Probability of enrolling, given click:   \n",
       "retention                     Probability of payment, given enroll:   \n",
       "net conversion                  Probability of payment, given click   \n",
       "\n",
       "                       values  \n",
       "cookies           5000.000000  \n",
       "clicks             400.000000  \n",
       "enrollments         82.500000  \n",
       "CTR                  0.080000  \n",
       "gross conversion     0.206250  \n",
       "retention            0.530000  \n",
       "net conversion       0.109313  "
      ]
     },
     "execution_count": 11,
     "metadata": {},
     "output_type": "execute_result"
    }
   ],
   "source": [
    "baseline"
   ]
  },
  {
   "cell_type": "markdown",
   "id": "e01cfbb8",
   "metadata": {},
   "source": [
    "#### Standard deviation"
   ]
  },
  {
   "cell_type": "markdown",
   "id": "fbb3ce8b",
   "metadata": {},
   "source": [
    "For the three evaluation metrics, we can estimate the variance analytically if the unit of diversion of the experiment \n",
    "is the same as the unit of analysis, and we can further assume binomial distribution.\n",
    "For gross conversion and net conversion, the unit of diversion equals the unit of analysis. For retention, it is not the case, and empirical analysis is recommended.\n",
    "\n",
    "For binomial distribution, the standard deviation = np.sqrt(p(1-p)/n)"
   ]
  },
  {
   "cell_type": "markdown",
   "id": "a23bc8e2",
   "metadata": {},
   "source": [
    "#### Gross Conversion"
   ]
  },
  {
   "cell_type": "code",
   "execution_count": 6,
   "id": "e945a9e4",
   "metadata": {},
   "outputs": [],
   "source": [
    "p = 1-baseline.iloc[4,1]\n",
    "sd = round(np.sqrt(p*(1-p)/400), 4)"
   ]
  },
  {
   "cell_type": "code",
   "execution_count": 7,
   "id": "4a4b5778",
   "metadata": {},
   "outputs": [
    {
     "data": {
      "text/plain": [
       "0.0202"
      ]
     },
     "execution_count": 7,
     "metadata": {},
     "output_type": "execute_result"
    }
   ],
   "source": [
    "sd"
   ]
  },
  {
   "cell_type": "markdown",
   "id": "f5839c52",
   "metadata": {},
   "source": [
    "#### Retention "
   ]
  },
  {
   "cell_type": "code",
   "execution_count": 8,
   "id": "85b643bb",
   "metadata": {},
   "outputs": [],
   "source": [
    "\n",
    "p = 1-baseline.iloc[5,1]\n",
    "sd = round(np.sqrt(p*(1-p)/82.5), 4)"
   ]
  },
  {
   "cell_type": "code",
   "execution_count": 9,
   "id": "662c2d27",
   "metadata": {},
   "outputs": [
    {
     "data": {
      "text/plain": [
       "0.0549"
      ]
     },
     "execution_count": 9,
     "metadata": {},
     "output_type": "execute_result"
    }
   ],
   "source": [
    "sd"
   ]
  },
  {
   "cell_type": "markdown",
   "id": "2c6c90c6",
   "metadata": {},
   "source": [
    "#### Net conversion"
   ]
  },
  {
   "cell_type": "code",
   "execution_count": 13,
   "id": "ea1d0b48",
   "metadata": {},
   "outputs": [
    {
     "data": {
      "text/plain": [
       "0.0156"
      ]
     },
     "execution_count": 13,
     "metadata": {},
     "output_type": "execute_result"
    }
   ],
   "source": [
    "p = 1-baseline.iloc[6,1]\n",
    "sd = round(np.sqrt(p*(1-p)/400), 4)\n",
    "sd"
   ]
  },
  {
   "cell_type": "code",
   "execution_count": 14,
   "id": "02ca96ef",
   "metadata": {},
   "outputs": [
    {
     "data": {
      "text/html": [
       "<div>\n",
       "<style scoped>\n",
       "    .dataframe tbody tr th:only-of-type {\n",
       "        vertical-align: middle;\n",
       "    }\n",
       "\n",
       "    .dataframe tbody tr th {\n",
       "        vertical-align: top;\n",
       "    }\n",
       "\n",
       "    .dataframe thead th {\n",
       "        text-align: right;\n",
       "    }\n",
       "</style>\n",
       "<table border=\"1\" class=\"dataframe\">\n",
       "  <thead>\n",
       "    <tr style=\"text-align: right;\">\n",
       "      <th></th>\n",
       "      <th>values</th>\n",
       "      <th>standard deviation</th>\n",
       "    </tr>\n",
       "  </thead>\n",
       "  <tbody>\n",
       "    <tr>\n",
       "      <th>gross conversion</th>\n",
       "      <td>0.206250</td>\n",
       "      <td>0.0202</td>\n",
       "    </tr>\n",
       "    <tr>\n",
       "      <th>retention</th>\n",
       "      <td>0.530000</td>\n",
       "      <td>0.0549</td>\n",
       "    </tr>\n",
       "    <tr>\n",
       "      <th>net conversion</th>\n",
       "      <td>0.109313</td>\n",
       "      <td>0.0156</td>\n",
       "    </tr>\n",
       "  </tbody>\n",
       "</table>\n",
       "</div>"
      ],
      "text/plain": [
       "                    values  standard deviation\n",
       "gross conversion  0.206250              0.0202\n",
       "retention         0.530000              0.0549\n",
       "net conversion    0.109313              0.0156"
      ]
     },
     "execution_count": 14,
     "metadata": {},
     "output_type": "execute_result"
    }
   ],
   "source": [
    "metrics = pd.DataFrame(baseline.iloc[4:,1])\n",
    "metrics['standard deviation'] = [0.0202, 0.0549, 0.0156]\n",
    "metrics"
   ]
  },
  {
   "cell_type": "markdown",
   "id": "ebb7b020",
   "metadata": {},
   "source": [
    "### 2.5 Experiment sizing "
   ]
  },
  {
   "cell_type": "markdown",
   "id": "0ef18638",
   "metadata": {},
   "source": [
    "We are going to estimate the size of the empriment for it to have both statistical power and statistical significance based on type I error rate(α, significance level) and type II error rate (β, power).\n",
    "\n",
    "\n",
    "<center> <font size=\"5\"> $n = \\frac{(Z_{1-\\frac{\\alpha}{2}}sd_1 + Z_{1-\\beta}sd_2)^2}{d^2}$</font>, with: <br><br>\n",
    "$sd_1 = \\sqrt{p(1-p)+p(1-p)}$<br><br>\n",
    "$sd_2 = \\sqrt{p(1-p)+(p+d)(1-(p+d)}$ </center><br>"
   ]
  },
  {
   "cell_type": "code",
   "execution_count": 15,
   "id": "bb02c336",
   "metadata": {},
   "outputs": [],
   "source": [
    "from scipy.stats import norm\n",
    "def sample_size(alpha, beta, p, d):\n",
    "    z_alpha = norm.ppf(1-alpha/2)\n",
    "    z_beta = norm.ppf(1-beta)\n",
    "    sd1 = np.sqrt(p*(1-p) + p*(1-p))\n",
    "    sd2 = np.sqrt(p*(1-p) + (p+d)*(1-(p+d)))\n",
    "    return round((z_alpha * sd1 + z_beta * sd2)**2/d**2)"
   ]
  },
  {
   "cell_type": "markdown",
   "id": "3da0e238",
   "metadata": {},
   "source": [
    "#### Gross Conversion "
   ]
  },
  {
   "cell_type": "code",
   "execution_count": 16,
   "id": "4b162f04",
   "metadata": {},
   "outputs": [
    {
     "name": "stdout",
     "output_type": "stream",
     "text": [
      "Number of clicks per group: 25835\n",
      "Number of cookies in total: 645875.0\n"
     ]
    }
   ],
   "source": [
    "p = metrics.iloc[0,0]\n",
    "d = 0.01\n",
    "alpha = 0.05\n",
    "beta = 0.2\n",
    "size_gross_coversion = sample_size(alpha, beta, p, d)\n",
    "print('Number of clicks per group:', size_gross_coversion)\n",
    "print('Number of cookies in total:', 2*size_gross_coversion /(0.08))"
   ]
  },
  {
   "cell_type": "markdown",
   "id": "d8440ada",
   "metadata": {},
   "source": [
    "With 40,000 pageviews per day, we will need 645875/40000 = 17 days to run the experiment."
   ]
  },
  {
   "cell_type": "markdown",
   "id": "88ce0727",
   "metadata": {},
   "source": [
    "#### Retention "
   ]
  },
  {
   "cell_type": "code",
   "execution_count": 17,
   "id": "1b1de649",
   "metadata": {},
   "outputs": [
    {
     "name": "stdout",
     "output_type": "stream",
     "text": [
      "Number of enrollments per group: 39087\n",
      "Number of cookies in total: 4737818.181818182\n"
     ]
    }
   ],
   "source": [
    "p = metrics.iloc[1,0]\n",
    "d = 0.01\n",
    "alpha = 0.05\n",
    "beta = 0.2\n",
    "size_gross_coversion = sample_size(alpha, beta, p, d)\n",
    "print('Number of enrollments per group:', size_gross_coversion)\n",
    "print('Number of cookies in total:', 2*size_gross_coversion/(0.20625*0.08))"
   ]
  },
  {
   "cell_type": "markdown",
   "id": "d54f1331",
   "metadata": {},
   "source": [
    "With 40,000 pageviews per day, we will need 4737818/40000 = 119 days to run the experiment. It takes too long and is not feasible. Therefore, we would drop this metric. "
   ]
  },
  {
   "cell_type": "markdown",
   "id": "b4587550",
   "metadata": {},
   "source": [
    "#### Net conversion "
   ]
  },
  {
   "cell_type": "code",
   "execution_count": 18,
   "id": "216d2d68",
   "metadata": {},
   "outputs": [
    {
     "name": "stdout",
     "output_type": "stream",
     "text": [
      "Number of clicks per group: 27413\n",
      "Number of cookies in total: 685325.0\n"
     ]
    }
   ],
   "source": [
    "p = metrics.iloc[2,0]\n",
    "d = 0.0075\n",
    "alpha = 0.05\n",
    "beta = 0.2\n",
    "size_gross_coversion = sample_size(alpha, beta, p, d)\n",
    "print('Number of clicks per group:', size_gross_coversion)\n",
    "print('Number of cookies in total:', 2*size_gross_coversion/0.08)"
   ]
  },
  {
   "cell_type": "markdown",
   "id": "6dd05084",
   "metadata": {},
   "source": [
    "With 40,000 pageviews per day, we will need 685325/40000 = 18 days to run the experiment."
   ]
  },
  {
   "cell_type": "markdown",
   "id": "7740bf03",
   "metadata": {},
   "source": [
    "Therefore, we could run the experiment for 18 days given 40,000 pageviews per day. If we take 80% of the pageviews per day, we would need 685325/(40,000 * 0.8) = 22 days"
   ]
  },
  {
   "cell_type": "markdown",
   "id": "ad41f3e2",
   "metadata": {},
   "source": [
    "#### Online caculator "
   ]
  },
  {
   "cell_type": "markdown",
   "id": "dfda89e5",
   "metadata": {},
   "source": [
    "We can also find out the sample size using an online caculator https://www.evanmiller.org/ab-testing/sample-size.html"
   ]
  },
  {
   "cell_type": "markdown",
   "id": "6d05c0ba",
   "metadata": {},
   "source": [
    "Gross conversion\n",
    "\n",
    "Baseline value: 0.206250\n",
    "\n",
    "Significance level: ${\\alpha}$: 0.05\n",
    "\n",
    "Statistical power: ${\\beta}$: 0.2\n",
    "\n",
    "Simple size: 25835 clicks for both the experiment group and the control group\n",
    "\n",
    "Number of cookies: 2 * 25835 * 40000 / 3200 = 645,875"
   ]
  },
  {
   "cell_type": "markdown",
   "id": "99635262",
   "metadata": {},
   "source": [
    "Retention\n",
    "\n",
    "Baseline value: 0.53\n",
    "\n",
    "Significance level ${\\alpha}$: 0.05\n",
    "\n",
    "Statistical power ${\\beta}$: 0.2\n",
    "\n",
    "Simple size: 39115 enrollments for both the experiment group and the control group\n",
    "\n",
    "Number of cookies: 2 * 39115 * 40000 / 660 = 4,741,212"
   ]
  },
  {
   "cell_type": "markdown",
   "id": "51a099d6",
   "metadata": {},
   "source": [
    "Net convsersion\n",
    "\n",
    "Baseline value: 0.109313\n",
    "\n",
    "Significance level ${\\alpha}$: 0.05\n",
    "\n",
    "Statistical power ${\\beta}$: 0.2\n",
    "\n",
    "Simple size: 27,413 clicks for both the experiment group and the control group\n",
    "\n",
    "Number of cookies: 2 * 27413 * 40000 / 3200 = 685,325"
   ]
  },
  {
   "cell_type": "markdown",
   "id": "98417f57",
   "metadata": {},
   "source": [
    "## 3. Experiment Analysis "
   ]
  },
  {
   "cell_type": "code",
   "execution_count": 19,
   "id": "e4f9dfc0",
   "metadata": {},
   "outputs": [],
   "source": [
    "control = pd.read_csv('control_data.xls')\n",
    "experiment = pd.read_csv('experiment_data.xls')"
   ]
  },
  {
   "cell_type": "code",
   "execution_count": 20,
   "id": "cb258b38",
   "metadata": {},
   "outputs": [
    {
     "data": {
      "text/html": [
       "<div>\n",
       "<style scoped>\n",
       "    .dataframe tbody tr th:only-of-type {\n",
       "        vertical-align: middle;\n",
       "    }\n",
       "\n",
       "    .dataframe tbody tr th {\n",
       "        vertical-align: top;\n",
       "    }\n",
       "\n",
       "    .dataframe thead th {\n",
       "        text-align: right;\n",
       "    }\n",
       "</style>\n",
       "<table border=\"1\" class=\"dataframe\">\n",
       "  <thead>\n",
       "    <tr style=\"text-align: right;\">\n",
       "      <th></th>\n",
       "      <th>Date</th>\n",
       "      <th>Pageviews</th>\n",
       "      <th>Clicks</th>\n",
       "      <th>Enrollments</th>\n",
       "      <th>Payments</th>\n",
       "    </tr>\n",
       "  </thead>\n",
       "  <tbody>\n",
       "    <tr>\n",
       "      <th>0</th>\n",
       "      <td>Sat, Oct 11</td>\n",
       "      <td>7723</td>\n",
       "      <td>687</td>\n",
       "      <td>134.0</td>\n",
       "      <td>70.0</td>\n",
       "    </tr>\n",
       "    <tr>\n",
       "      <th>1</th>\n",
       "      <td>Sun, Oct 12</td>\n",
       "      <td>9102</td>\n",
       "      <td>779</td>\n",
       "      <td>147.0</td>\n",
       "      <td>70.0</td>\n",
       "    </tr>\n",
       "    <tr>\n",
       "      <th>2</th>\n",
       "      <td>Mon, Oct 13</td>\n",
       "      <td>10511</td>\n",
       "      <td>909</td>\n",
       "      <td>167.0</td>\n",
       "      <td>95.0</td>\n",
       "    </tr>\n",
       "    <tr>\n",
       "      <th>3</th>\n",
       "      <td>Tue, Oct 14</td>\n",
       "      <td>9871</td>\n",
       "      <td>836</td>\n",
       "      <td>156.0</td>\n",
       "      <td>105.0</td>\n",
       "    </tr>\n",
       "    <tr>\n",
       "      <th>4</th>\n",
       "      <td>Wed, Oct 15</td>\n",
       "      <td>10014</td>\n",
       "      <td>837</td>\n",
       "      <td>163.0</td>\n",
       "      <td>64.0</td>\n",
       "    </tr>\n",
       "  </tbody>\n",
       "</table>\n",
       "</div>"
      ],
      "text/plain": [
       "          Date  Pageviews  Clicks  Enrollments  Payments\n",
       "0  Sat, Oct 11       7723     687        134.0      70.0\n",
       "1  Sun, Oct 12       9102     779        147.0      70.0\n",
       "2  Mon, Oct 13      10511     909        167.0      95.0\n",
       "3  Tue, Oct 14       9871     836        156.0     105.0\n",
       "4  Wed, Oct 15      10014     837        163.0      64.0"
      ]
     },
     "execution_count": 20,
     "metadata": {},
     "output_type": "execute_result"
    }
   ],
   "source": [
    "control.head()"
   ]
  },
  {
   "cell_type": "code",
   "execution_count": 21,
   "id": "4249ee2e",
   "metadata": {},
   "outputs": [
    {
     "data": {
      "text/html": [
       "<div>\n",
       "<style scoped>\n",
       "    .dataframe tbody tr th:only-of-type {\n",
       "        vertical-align: middle;\n",
       "    }\n",
       "\n",
       "    .dataframe tbody tr th {\n",
       "        vertical-align: top;\n",
       "    }\n",
       "\n",
       "    .dataframe thead th {\n",
       "        text-align: right;\n",
       "    }\n",
       "</style>\n",
       "<table border=\"1\" class=\"dataframe\">\n",
       "  <thead>\n",
       "    <tr style=\"text-align: right;\">\n",
       "      <th></th>\n",
       "      <th>Date</th>\n",
       "      <th>Pageviews</th>\n",
       "      <th>Clicks</th>\n",
       "      <th>Enrollments</th>\n",
       "      <th>Payments</th>\n",
       "    </tr>\n",
       "  </thead>\n",
       "  <tbody>\n",
       "    <tr>\n",
       "      <th>0</th>\n",
       "      <td>Sat, Oct 11</td>\n",
       "      <td>7716</td>\n",
       "      <td>686</td>\n",
       "      <td>105.0</td>\n",
       "      <td>34.0</td>\n",
       "    </tr>\n",
       "    <tr>\n",
       "      <th>1</th>\n",
       "      <td>Sun, Oct 12</td>\n",
       "      <td>9288</td>\n",
       "      <td>785</td>\n",
       "      <td>116.0</td>\n",
       "      <td>91.0</td>\n",
       "    </tr>\n",
       "    <tr>\n",
       "      <th>2</th>\n",
       "      <td>Mon, Oct 13</td>\n",
       "      <td>10480</td>\n",
       "      <td>884</td>\n",
       "      <td>145.0</td>\n",
       "      <td>79.0</td>\n",
       "    </tr>\n",
       "    <tr>\n",
       "      <th>3</th>\n",
       "      <td>Tue, Oct 14</td>\n",
       "      <td>9867</td>\n",
       "      <td>827</td>\n",
       "      <td>138.0</td>\n",
       "      <td>92.0</td>\n",
       "    </tr>\n",
       "    <tr>\n",
       "      <th>4</th>\n",
       "      <td>Wed, Oct 15</td>\n",
       "      <td>9793</td>\n",
       "      <td>832</td>\n",
       "      <td>140.0</td>\n",
       "      <td>94.0</td>\n",
       "    </tr>\n",
       "  </tbody>\n",
       "</table>\n",
       "</div>"
      ],
      "text/plain": [
       "          Date  Pageviews  Clicks  Enrollments  Payments\n",
       "0  Sat, Oct 11       7716     686        105.0      34.0\n",
       "1  Sun, Oct 12       9288     785        116.0      91.0\n",
       "2  Mon, Oct 13      10480     884        145.0      79.0\n",
       "3  Tue, Oct 14       9867     827        138.0      92.0\n",
       "4  Wed, Oct 15       9793     832        140.0      94.0"
      ]
     },
     "execution_count": 21,
     "metadata": {},
     "output_type": "execute_result"
    }
   ],
   "source": [
    "experiment.head()"
   ]
  },
  {
   "cell_type": "markdown",
   "id": "abe3c0d1",
   "metadata": {},
   "source": [
    "### 3.1 Sanity Checks"
   ]
  },
  {
   "cell_type": "markdown",
   "id": "aeed508b",
   "metadata": {},
   "source": [
    "Before finding out the effect of the experiment, we need to make sure that the experiment is not biased between the control group and the experiment group by checking if the invariant metrics are equal between the two groups. \n",
    "\n",
    "The three invariant metrics are:\n",
    "\n",
    "1.Number of cookies\n",
    "\n",
    "2.Number of clicks\n",
    "\n",
    "3.Click through probability\n",
    "\n",
    "We can use either hypothesis testing or confidential interval for Sanity checks"
   ]
  },
  {
   "cell_type": "markdown",
   "id": "8df6e6f8",
   "metadata": {},
   "source": [
    "#### Number of cookies"
   ]
  },
  {
   "cell_type": "markdown",
   "id": "f71bfa57",
   "metadata": {},
   "source": [
    "It is a one-proportion problem."
   ]
  },
  {
   "cell_type": "code",
   "execution_count": 19,
   "id": "a99aa947",
   "metadata": {},
   "outputs": [],
   "source": [
    "cookies_control = control['Pageviews'].sum()\n",
    "cookies_experiment = experiment['Pageviews'].sum()\n",
    "cookies_total = cookies_control + cookies_experiment\n",
    "proportion = cookies_experiment/cookies_total"
   ]
  },
  {
   "cell_type": "markdown",
   "id": "39fe78b0",
   "metadata": {},
   "source": [
    "Hypothesis testing\n",
    "\n",
    "$H_{0}$: proportion = 0.5\n",
    "\n",
    "$H_{1}$: proportion != 0.5\n",
    "\n",
    "According to the central limit theroem, the distribution approximates normal distribution N ~ (p, p(1-p)/n) where n = cookies_total, and p = proportion."
   ]
  },
  {
   "cell_type": "code",
   "execution_count": 20,
   "id": "df11697b",
   "metadata": {},
   "outputs": [
    {
     "data": {
      "text/plain": [
       "-1.0628507473598006"
      ]
     },
     "execution_count": 20,
     "metadata": {},
     "output_type": "execute_result"
    }
   ],
   "source": [
    "z_score = (proportion - 0.5)/np.sqrt(0.5*(1-0.5)/cookies_total)\n",
    "z_score"
   ]
  },
  {
   "cell_type": "code",
   "execution_count": 21,
   "id": "02141731",
   "metadata": {},
   "outputs": [],
   "source": [
    "p_value = 2 * norm.sf(abs(z_score))"
   ]
  },
  {
   "cell_type": "code",
   "execution_count": 22,
   "id": "d047f2b3",
   "metadata": {},
   "outputs": [
    {
     "data": {
      "text/plain": [
       "0.2878496417065868"
      ]
     },
     "execution_count": 22,
     "metadata": {},
     "output_type": "execute_result"
    }
   ],
   "source": [
    "p_value"
   ]
  },
  {
   "cell_type": "markdown",
   "id": "d2c06e34",
   "metadata": {},
   "source": [
    "Since p-value is larger than the significance level, we cannot reject the null hypothesis that the proportion is 0.5. "
   ]
  },
  {
   "cell_type": "markdown",
   "id": "dc9b3e44",
   "metadata": {},
   "source": [
    "Confidence interval"
   ]
  },
  {
   "cell_type": "code",
   "execution_count": 23,
   "id": "c83bb26c",
   "metadata": {},
   "outputs": [],
   "source": [
    "margin_of_error = norm.ppf(1-0.05/2) * np.sqrt(0.5*(1-0.5)/cookies_total)"
   ]
  },
  {
   "cell_type": "code",
   "execution_count": 24,
   "id": "21595a30",
   "metadata": {},
   "outputs": [
    {
     "data": {
      "text/plain": [
       "(0.5011795861754058, 0.4988204138245942)"
      ]
     },
     "execution_count": 24,
     "metadata": {},
     "output_type": "execute_result"
    }
   ],
   "source": [
    "ci = 0.5 + margin_of_error, 0.5 - margin_of_error\n",
    "ci"
   ]
  },
  {
   "cell_type": "markdown",
   "id": "fd1d238a",
   "metadata": {},
   "source": [
    "Noticing that the actual proportion is within the confidential interval, we can conclude that the actual proportion is not siginificantly different from 0.5."
   ]
  },
  {
   "cell_type": "markdown",
   "id": "f43efadb",
   "metadata": {},
   "source": [
    "From both the hypothesis testing and the confidence interval, we can conclude that the number of cookiess is not significantly different between the experiment group and the control group."
   ]
  },
  {
   "cell_type": "markdown",
   "id": "8e93c089",
   "metadata": {},
   "source": [
    "#### Number of clicks"
   ]
  },
  {
   "cell_type": "code",
   "execution_count": 25,
   "id": "a63833fa",
   "metadata": {},
   "outputs": [],
   "source": [
    "clicks_control = control['Clicks'].sum()\n",
    "clicks_experiment = experiment['Clicks'].sum()\n",
    "clicks_total = clicks_control + clicks_experiment\n",
    "proportion = clicks_experiment/clicks_total"
   ]
  },
  {
   "cell_type": "markdown",
   "id": "56f90882",
   "metadata": {},
   "source": [
    "Hypothesis testing\n",
    "\n",
    "$H_{0}$: proportion = 0.5\n",
    "\n",
    "$H_{1}$: proportion != 0.5\n",
    "\n",
    "Similarly, the distribution approximates normal distribution N ~ (p, p(1-p)/n) where p = proportion, n = clicks_total"
   ]
  },
  {
   "cell_type": "code",
   "execution_count": 26,
   "id": "1a18e4a5",
   "metadata": {},
   "outputs": [
    {
     "data": {
      "text/plain": [
       "-0.2225731904481107"
      ]
     },
     "execution_count": 26,
     "metadata": {},
     "output_type": "execute_result"
    }
   ],
   "source": [
    "z_score = (proportion - 0.5)/np.sqrt(0.5*(1-0.5)/clicks_total)\n",
    "z_score"
   ]
  },
  {
   "cell_type": "code",
   "execution_count": 27,
   "id": "07e7d9db",
   "metadata": {},
   "outputs": [
    {
     "data": {
      "text/plain": [
       "0.8238677039815487"
      ]
     },
     "execution_count": 27,
     "metadata": {},
     "output_type": "execute_result"
    }
   ],
   "source": [
    "p_value = 2 * norm.sf(abs(z_score))\n",
    "p_value"
   ]
  },
  {
   "cell_type": "markdown",
   "id": "8666dd5d",
   "metadata": {},
   "source": [
    "Since p-value is larger than the significance level, we cannot reject the null hypothesis that the proportion is 0.5."
   ]
  },
  {
   "cell_type": "markdown",
   "id": "f2361931",
   "metadata": {},
   "source": [
    "Confidence Interval"
   ]
  },
  {
   "cell_type": "code",
   "execution_count": 28,
   "id": "a43adb35",
   "metadata": {},
   "outputs": [],
   "source": [
    "margin_of_error = norm.ppf(1-0.05/2) * np.sqrt(0.5*(1-0.5)/clicks_total)"
   ]
  },
  {
   "cell_type": "code",
   "execution_count": 29,
   "id": "fbca4786",
   "metadata": {},
   "outputs": [
    {
     "data": {
      "text/plain": [
       "(0.4958845713471463, 0.5041154286528536)"
      ]
     },
     "execution_count": 29,
     "metadata": {},
     "output_type": "execute_result"
    }
   ],
   "source": [
    "ci = (0.5 - margin_of_error, 0.5 + margin_of_error)\n",
    "ci"
   ]
  },
  {
   "cell_type": "code",
   "execution_count": 30,
   "id": "79d36e68",
   "metadata": {},
   "outputs": [
    {
     "data": {
      "text/plain": [
       "0.49953265259333723"
      ]
     },
     "execution_count": 30,
     "metadata": {},
     "output_type": "execute_result"
    }
   ],
   "source": [
    "proportion"
   ]
  },
  {
   "cell_type": "markdown",
   "id": "56445f04",
   "metadata": {},
   "source": [
    "Noticing that the actual proportion is within the confidential interval, we can conclude that the actual proportion is not siginificantly different from 0.5."
   ]
  },
  {
   "cell_type": "markdown",
   "id": "950099be",
   "metadata": {},
   "source": [
    "From both the hypothesis testing and the confidence interval, we can conclude that the number of clicks is not significantly different between the experiment group and the control group."
   ]
  },
  {
   "cell_type": "markdown",
   "id": "9aed8156",
   "metadata": {},
   "source": [
    "#### Click Through Probability"
   ]
  },
  {
   "cell_type": "markdown",
   "id": "a5003274",
   "metadata": {},
   "source": [
    "It is a two-proportions problem with the same variance between the two groups. \n",
    "\n",
    "To make sure the experiment is valid, we expect no difference in the click through probability between the experiment and control groups.\n",
    "\n",
    "Also, we can use pooled standard deviation given the same variance of the two groups. "
   ]
  },
  {
   "cell_type": "code",
   "execution_count": 34,
   "id": "bc86c960",
   "metadata": {},
   "outputs": [],
   "source": [
    "ctp_control = clicks_control/cookies_control\n",
    "ctp_experiment = clicks_experiment/cookies_experiment"
   ]
  },
  {
   "cell_type": "markdown",
   "id": "e72574d5",
   "metadata": {},
   "source": [
    "Hypothesis testing\n",
    "\n",
    "$H_{0}$: ctp_control - ctp_experiment = 0\n",
    "\n",
    "$H_{1}$: ctp_control - ctp_experiment != 0"
   ]
  },
  {
   "cell_type": "code",
   "execution_count": 36,
   "id": "e96abe07",
   "metadata": {},
   "outputs": [],
   "source": [
    "ctp_pooled = clicks_total/cookies_total\n",
    "sd_pooled = np.sqrt(ctp_pooled*(1-ctp_pooled)*(1/cookies_control + 1/cookies_experiment))\n",
    "z_score = (ctp_control - ctp_experiment)/sd_pooled"
   ]
  },
  {
   "cell_type": "code",
   "execution_count": 38,
   "id": "a203a59e",
   "metadata": {},
   "outputs": [],
   "source": [
    "p_value = 2*norm.sf(abs(z_score))"
   ]
  },
  {
   "cell_type": "code",
   "execution_count": 39,
   "id": "c8eb4af0",
   "metadata": {},
   "outputs": [
    {
     "data": {
      "text/plain": [
       "0.9317359524473912"
      ]
     },
     "execution_count": 39,
     "metadata": {},
     "output_type": "execute_result"
    }
   ],
   "source": [
    "p_value"
   ]
  },
  {
   "cell_type": "markdown",
   "id": "88961d1c",
   "metadata": {},
   "source": [
    "Since p_value is larger than the significance level of 0.5, we cannot reject the null hypothesis that the click through probability is the same between the two groups."
   ]
  },
  {
   "cell_type": "markdown",
   "id": "82b80836",
   "metadata": {},
   "source": [
    "Confidence Interval"
   ]
  },
  {
   "cell_type": "code",
   "execution_count": 40,
   "id": "96882cac",
   "metadata": {},
   "outputs": [],
   "source": [
    "margin_of_error = norm.ppf(1-0.05/2) * sd_pooled"
   ]
  },
  {
   "cell_type": "code",
   "execution_count": 41,
   "id": "e3cdb559",
   "metadata": {},
   "outputs": [],
   "source": [
    "ci = 0 - margin_of_error, 0 + margin_of_error"
   ]
  },
  {
   "cell_type": "code",
   "execution_count": 42,
   "id": "67346a82",
   "metadata": {},
   "outputs": [
    {
     "data": {
      "text/plain": [
       "(-0.001295655390242568, 0.001295655390242568)"
      ]
     },
     "execution_count": 42,
     "metadata": {},
     "output_type": "execute_result"
    }
   ],
   "source": [
    "ci"
   ]
  },
  {
   "cell_type": "code",
   "execution_count": 43,
   "id": "2a799835",
   "metadata": {},
   "outputs": [
    {
     "data": {
      "text/plain": [
       "-5.662709158693602e-05"
      ]
     },
     "execution_count": 43,
     "metadata": {},
     "output_type": "execute_result"
    }
   ],
   "source": [
    "ctp_control - ctp_experiment"
   ]
  },
  {
   "cell_type": "markdown",
   "id": "0be08561",
   "metadata": {},
   "source": [
    "The actual difference of click through probability between the two groups is within the confidence interval given a signifiance level of 0.05.\n",
    "\n",
    "Both the hypothesis testing and confidence interval show that the click through probability is not significantly different between the two groups."
   ]
  },
  {
   "cell_type": "markdown",
   "id": "28a3f88d",
   "metadata": {},
   "source": [
    "By far we've confirmed that the experiment is run validly. "
   ]
  },
  {
   "cell_type": "markdown",
   "id": "f028594c",
   "metadata": {},
   "source": [
    "### 3.2 Effect Check"
   ]
  },
  {
   "cell_type": "markdown",
   "id": "4bc3dde8",
   "metadata": {},
   "source": [
    "We're now going the check if the change could bring the effect as we expect. That is, the two evaluation metrics are expected to be significantlty higher in the experiment group in both a statistical and practical sense."
   ]
  },
  {
   "cell_type": "markdown",
   "id": "1a2e2943",
   "metadata": {},
   "source": [
    "#### Gross Conversion "
   ]
  },
  {
   "cell_type": "markdown",
   "id": "c63926d2",
   "metadata": {},
   "source": [
    "We expect the gross conversion of the experiment group to be significanly less than that of the control group, further by the minimum change (-0.01) to make sense practically, as the intention is to discourage the students that cannot commit from enrolling."
   ]
  },
  {
   "cell_type": "code",
   "execution_count": 52,
   "id": "d474d013",
   "metadata": {},
   "outputs": [],
   "source": [
    "enroll_control = control['Enrollments'].sum()\n",
    "enroll_experiment = experiment['Enrollments'].sum()\n",
    "clicks_control = control[control['Enrollments'].notnull()]['Clicks'].sum()\n",
    "clicks_experiment = experiment[experiment['Enrollments'].notnull()]['Clicks'].sum()"
   ]
  },
  {
   "cell_type": "code",
   "execution_count": 53,
   "id": "70e2b84f",
   "metadata": {},
   "outputs": [],
   "source": [
    "gc_control = enroll_control/ clicks_control"
   ]
  },
  {
   "cell_type": "code",
   "execution_count": 54,
   "id": "604e1eda",
   "metadata": {},
   "outputs": [],
   "source": [
    "gc_experiment = enroll_experiment/clicks_experiment"
   ]
  },
  {
   "cell_type": "code",
   "execution_count": 55,
   "id": "6c073951",
   "metadata": {},
   "outputs": [],
   "source": [
    "gc_pooled = (enroll_control + enroll_experiment)/(clicks_control + clicks_experiment)"
   ]
  },
  {
   "cell_type": "code",
   "execution_count": 56,
   "id": "524f073a",
   "metadata": {},
   "outputs": [],
   "source": [
    "sd_pooled = np.sqrt(gc_pooled*(1-gc_pooled)*(1/clicks_control + 1/clicks_experiment))"
   ]
  },
  {
   "cell_type": "code",
   "execution_count": 57,
   "id": "86443860",
   "metadata": {},
   "outputs": [],
   "source": [
    "margin_of_error = norm.ppf(1-0.05/2) * sd_pooled"
   ]
  },
  {
   "cell_type": "code",
   "execution_count": 58,
   "id": "04e4183f",
   "metadata": {},
   "outputs": [
    {
     "data": {
      "text/plain": [
       "(-0.02912320088750467, -0.011986548273218463)"
      ]
     },
     "execution_count": 58,
     "metadata": {},
     "output_type": "execute_result"
    }
   ],
   "source": [
    "ci = gc_experiment - gc_control - margin_of_error, gc_experiment - gc_control + margin_of_error\n",
    "ci"
   ]
  },
  {
   "cell_type": "markdown",
   "id": "3f45c009",
   "metadata": {},
   "source": [
    "The upper bound of the confidence interval is less than 0 and the minimum change of -0.01, which means the change is statistically and practically effectively in lowering the gross conversion rate. "
   ]
  },
  {
   "cell_type": "markdown",
   "id": "89d70eca",
   "metadata": {},
   "source": [
    "#### Net Conversion"
   ]
  },
  {
   "cell_type": "markdown",
   "id": "8c6a6dfc",
   "metadata": {},
   "source": [
    "We expect the experiment group to have a higher net conversion rate than the control group."
   ]
  },
  {
   "cell_type": "code",
   "execution_count": 67,
   "id": "04ae5f20",
   "metadata": {},
   "outputs": [],
   "source": [
    "pay_control = control['Payments'].sum()\n",
    "pay_experiment = experiment['Payments'].sum()"
   ]
  },
  {
   "cell_type": "code",
   "execution_count": 68,
   "id": "4888d15e",
   "metadata": {},
   "outputs": [],
   "source": [
    "nc_control = pay_control/clicks_control\n",
    "nc_experiment = pay_experiment/clicks_experiment"
   ]
  },
  {
   "cell_type": "code",
   "execution_count": 69,
   "id": "0243c12a",
   "metadata": {},
   "outputs": [],
   "source": [
    "nc_pooled = (pay_control + pay_experiment)/(clicks_control+clicks_experiment)"
   ]
  },
  {
   "cell_type": "code",
   "execution_count": 70,
   "id": "8bdc5b11",
   "metadata": {},
   "outputs": [],
   "source": [
    "sd_pooled = np.sqrt(nc_pooled * (1-nc_pooled) * (1/clicks_control + 1/clicks_experiment))"
   ]
  },
  {
   "cell_type": "code",
   "execution_count": 71,
   "id": "33bd8868",
   "metadata": {},
   "outputs": [],
   "source": [
    "margin_of_error = norm.ppf(1-0.05/2) * sd_pooled"
   ]
  },
  {
   "cell_type": "code",
   "execution_count": 72,
   "id": "5c5b6ce3",
   "metadata": {},
   "outputs": [
    {
     "data": {
      "text/plain": [
       "(-0.011604500677993734, 0.0018570553289053993)"
      ]
     },
     "execution_count": 72,
     "metadata": {},
     "output_type": "execute_result"
    }
   ],
   "source": [
    "ci = nc_experiment - nc_control - margin_of_error, nc_experiment - nc_control + margin_of_error \n",
    "ci"
   ]
  },
  {
   "cell_type": "markdown",
   "id": "6884ccbf",
   "metadata": {},
   "source": [
    "Unfortunately, the lower bound of the confidence interval is less than 0 and the minimum change, and even the upper bound is less than the minimum change of 0.0075.\n",
    "\n",
    "The change could not bring a positive change to the net conversion rate. "
   ]
  },
  {
   "cell_type": "markdown",
   "id": "55456f38",
   "metadata": {},
   "source": [
    "### 3.3 Sign test"
   ]
  },
  {
   "cell_type": "markdown",
   "id": "993f2a77",
   "metadata": {},
   "source": [
    "In a sign test, we focus on the proportion of the days when the experiment group has a better performance than the control group in terms of the evaluation metrics, which we will call success rate.\n",
    "\n",
    "We need to confirm if the success rate is higher than 50%."
   ]
  },
  {
   "cell_type": "code",
   "execution_count": 22,
   "id": "ada584bc",
   "metadata": {},
   "outputs": [
    {
     "data": {
      "text/html": [
       "<div>\n",
       "<style scoped>\n",
       "    .dataframe tbody tr th:only-of-type {\n",
       "        vertical-align: middle;\n",
       "    }\n",
       "\n",
       "    .dataframe tbody tr th {\n",
       "        vertical-align: top;\n",
       "    }\n",
       "\n",
       "    .dataframe thead th {\n",
       "        text-align: right;\n",
       "    }\n",
       "</style>\n",
       "<table border=\"1\" class=\"dataframe\">\n",
       "  <thead>\n",
       "    <tr style=\"text-align: right;\">\n",
       "      <th></th>\n",
       "      <th>Date</th>\n",
       "      <th>Pageviews</th>\n",
       "      <th>Clicks</th>\n",
       "      <th>Enrollments</th>\n",
       "      <th>Payments</th>\n",
       "    </tr>\n",
       "  </thead>\n",
       "  <tbody>\n",
       "    <tr>\n",
       "      <th>0</th>\n",
       "      <td>Sat, Oct 11</td>\n",
       "      <td>7723</td>\n",
       "      <td>687</td>\n",
       "      <td>134.0</td>\n",
       "      <td>70.0</td>\n",
       "    </tr>\n",
       "    <tr>\n",
       "      <th>1</th>\n",
       "      <td>Sun, Oct 12</td>\n",
       "      <td>9102</td>\n",
       "      <td>779</td>\n",
       "      <td>147.0</td>\n",
       "      <td>70.0</td>\n",
       "    </tr>\n",
       "    <tr>\n",
       "      <th>2</th>\n",
       "      <td>Mon, Oct 13</td>\n",
       "      <td>10511</td>\n",
       "      <td>909</td>\n",
       "      <td>167.0</td>\n",
       "      <td>95.0</td>\n",
       "    </tr>\n",
       "    <tr>\n",
       "      <th>3</th>\n",
       "      <td>Tue, Oct 14</td>\n",
       "      <td>9871</td>\n",
       "      <td>836</td>\n",
       "      <td>156.0</td>\n",
       "      <td>105.0</td>\n",
       "    </tr>\n",
       "    <tr>\n",
       "      <th>4</th>\n",
       "      <td>Wed, Oct 15</td>\n",
       "      <td>10014</td>\n",
       "      <td>837</td>\n",
       "      <td>163.0</td>\n",
       "      <td>64.0</td>\n",
       "    </tr>\n",
       "  </tbody>\n",
       "</table>\n",
       "</div>"
      ],
      "text/plain": [
       "          Date  Pageviews  Clicks  Enrollments  Payments\n",
       "0  Sat, Oct 11       7723     687        134.0      70.0\n",
       "1  Sun, Oct 12       9102     779        147.0      70.0\n",
       "2  Mon, Oct 13      10511     909        167.0      95.0\n",
       "3  Tue, Oct 14       9871     836        156.0     105.0\n",
       "4  Wed, Oct 15      10014     837        163.0      64.0"
      ]
     },
     "execution_count": 22,
     "metadata": {},
     "output_type": "execute_result"
    }
   ],
   "source": [
    "control.head()"
   ]
  },
  {
   "cell_type": "code",
   "execution_count": 23,
   "id": "c2381904",
   "metadata": {},
   "outputs": [],
   "source": [
    "data = control.merge(experiment, on='Date', how='inner')\n",
    "data.dropna(inplace=True, axis=0)"
   ]
  },
  {
   "cell_type": "code",
   "execution_count": 24,
   "id": "4dda9192",
   "metadata": {},
   "outputs": [],
   "source": [
    "data['gc_control'] = data['Enrollments_x']/data['Clicks_x']\n",
    "data['gc_experiment'] = data['Enrollments_y']/data['Clicks_y']\n",
    "data['nc_control'] = data['Payments_x']/data['Clicks_x']\n",
    "data['nc_experiment'] = data['Payments_y']/data['Clicks_y']"
   ]
  },
  {
   "cell_type": "code",
   "execution_count": 25,
   "id": "73903ea3",
   "metadata": {},
   "outputs": [],
   "source": [
    "data = data[['Date','gc_control', 'gc_experiment','nc_control','nc_experiment']]"
   ]
  },
  {
   "cell_type": "code",
   "execution_count": 26,
   "id": "dd995be4",
   "metadata": {},
   "outputs": [
    {
     "data": {
      "text/plain": [
       "23"
      ]
     },
     "execution_count": 26,
     "metadata": {},
     "output_type": "execute_result"
    }
   ],
   "source": [
    "n_sample = len(data)\n",
    "n_sample"
   ]
  },
  {
   "cell_type": "markdown",
   "id": "cc36a366",
   "metadata": {},
   "source": [
    "Since the number of samples is less than 30, we are not going to use the central limit theroem.\n",
    "\n",
    "Instead, we will calculate the p_value based on its definition. p_value is the probability of obtainning the results at least as extreme as the one observed."
   ]
  },
  {
   "cell_type": "code",
   "execution_count": 27,
   "id": "45b219cf",
   "metadata": {},
   "outputs": [],
   "source": [
    "import math\n",
    "def get_p_value(n, k, p):\n",
    "    '''\n",
    "    n: number of samples\n",
    "    k: number of successes\n",
    "    p: null hypithesis of success rate\n",
    "    return: probability of k or more sucesses out of n trials\n",
    "    '''\n",
    "    p_val = 0\n",
    "    # p_value is the probability of obtainning the results at least as extreme as the one observed.\n",
    "    if k < n*p:\n",
    "        for i in range(0, k+1):\n",
    "            p_val += probability(n, i, p)\n",
    "    else:\n",
    "        for i in range(k, n+1):\n",
    "            p_val += probability(n, i, p)\n",
    "    return 2*p_val\n",
    "    \n",
    "\n",
    "def probability(n, k, p):\n",
    "    '''\n",
    "    n: number of samples\n",
    "    k: number of successes\n",
    "    p: null hypithesis of success rate\n",
    "    return: probability of k or more sucesses out of n trials\n",
    "    '''\n",
    "    prob = p**k * p**(n-k) * math.factorial(n)/(math.factorial(n-k) * math.factorial(k))\n",
    "    return prob"
   ]
  },
  {
   "cell_type": "markdown",
   "id": "d582722b",
   "metadata": {},
   "source": [
    "#### Gross conversion"
   ]
  },
  {
   "cell_type": "markdown",
   "id": "dffdada4",
   "metadata": {},
   "source": [
    "$H_{0}$: success rate = 0\n",
    "\n",
    "$H_{1}$: sucess rate != 0"
   ]
  },
  {
   "cell_type": "code",
   "execution_count": 28,
   "id": "e31bd878",
   "metadata": {},
   "outputs": [
    {
     "data": {
      "text/plain": [
       "19"
      ]
     },
     "execution_count": 28,
     "metadata": {},
     "output_type": "execute_result"
    }
   ],
   "source": [
    "success = (data['gc_experiment'] < data['gc_control']).sum()\n",
    "success"
   ]
  },
  {
   "cell_type": "code",
   "execution_count": 29,
   "id": "a05928b5",
   "metadata": {},
   "outputs": [],
   "source": [
    "p_value = get_p_value(n_sample, success, 0.5)"
   ]
  },
  {
   "cell_type": "code",
   "execution_count": 30,
   "id": "3651078f",
   "metadata": {},
   "outputs": [
    {
     "data": {
      "text/plain": [
       "0.002599477767944336"
      ]
     },
     "execution_count": 30,
     "metadata": {},
     "output_type": "execute_result"
    }
   ],
   "source": [
    "p_value"
   ]
  },
  {
   "cell_type": "markdown",
   "id": "c9c1c9f5",
   "metadata": {},
   "source": [
    "p_value is smaller than the significance of 0.05, which means the null hypothesis of a 0.5 sucess rate can be rejected. Therefore, the success rate is significantly different from (larger than in this case) 0.5.\n",
    "\n",
    "That is, the change can bring a decline in the gross conversion rate."
   ]
  },
  {
   "cell_type": "markdown",
   "id": "4968b13f",
   "metadata": {},
   "source": [
    "#### Net Conversion"
   ]
  },
  {
   "cell_type": "markdown",
   "id": "c4b119b4",
   "metadata": {},
   "source": [
    "$H_{0}$: success rate = 0\n",
    "\n",
    "$H_{1}$: success rate != 0"
   ]
  },
  {
   "cell_type": "code",
   "execution_count": 31,
   "id": "c3a15744",
   "metadata": {},
   "outputs": [
    {
     "data": {
      "text/plain": [
       "10"
      ]
     },
     "execution_count": 31,
     "metadata": {},
     "output_type": "execute_result"
    }
   ],
   "source": [
    "success = (data['nc_experiment'] > data['nc_control']).sum()\n",
    "success"
   ]
  },
  {
   "cell_type": "code",
   "execution_count": 32,
   "id": "8265d2a8",
   "metadata": {},
   "outputs": [
    {
     "data": {
      "text/plain": [
       "0.6776394844055176"
      ]
     },
     "execution_count": 32,
     "metadata": {},
     "output_type": "execute_result"
    }
   ],
   "source": [
    "p_value = get_p_value(n_sample, success, 0.5)\n",
    "p_value"
   ]
  },
  {
   "cell_type": "markdown",
   "id": "482ea566",
   "metadata": {},
   "source": [
    "The p_value is much higher than the significance level, which means we cannot reject the null hypothesis that the sucess rate is 0.5. We cannot decide if the change has brought a positive change to the net coversion rate."
   ]
  },
  {
   "cell_type": "markdown",
   "id": "a2e19493",
   "metadata": {},
   "source": [
    "The results of the sign test are consistent with those of the effect checks. The change can bring a disrable change to gross conversion but not to net conversion."
   ]
  },
  {
   "cell_type": "markdown",
   "id": "217100b2",
   "metadata": {},
   "source": [
    "### 4. Conclusion and follow-ups "
   ]
  },
  {
   "cell_type": "markdown",
   "id": "b94e5cd2",
   "metadata": {},
   "source": [
    "Adding a feature to discourage the users who cannot meet the time commitment requirement can siginificantly decrease the gross conversion rate in both statistical and pratical senses and thus help save coaching resources and reduce costs. But, we don't know if the resources saved is statistically and practically significant. On the other hand, the effect on the net conversion is not clear, and the effect could be negative. This is a risk that we must consider.\n",
    "\n",
    "Therefore, the change is not recommeneded. More research and experiments are needed to find a way to save the coaching resouces. \n",
    "\n",
    "\n",
    "\n"
   ]
  },
  {
   "cell_type": "code",
   "execution_count": null,
   "id": "698b6de0",
   "metadata": {},
   "outputs": [],
   "source": []
  }
 ],
 "metadata": {
  "kernelspec": {
   "display_name": "Python 3 (ipykernel)",
   "language": "python",
   "name": "python3"
  },
  "language_info": {
   "codemirror_mode": {
    "name": "ipython",
    "version": 3
   },
   "file_extension": ".py",
   "mimetype": "text/x-python",
   "name": "python",
   "nbconvert_exporter": "python",
   "pygments_lexer": "ipython3",
   "version": "3.10.2"
  }
 },
 "nbformat": 4,
 "nbformat_minor": 5
}
